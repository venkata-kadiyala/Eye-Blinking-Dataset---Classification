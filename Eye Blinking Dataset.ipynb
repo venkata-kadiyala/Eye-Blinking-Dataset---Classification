{
 "cells": [
  {
   "cell_type": "code",
   "execution_count": 83,
   "id": "54afcca0",
   "metadata": {},
   "outputs": [],
   "source": [
    "# Eye Blinking Dataset - https://www.openml.org/search?type=data&sort=runs&status=active&id=1471"
   ]
  },
  {
   "cell_type": "code",
   "execution_count": null,
   "id": "728b0194",
   "metadata": {},
   "outputs": [],
   "source": [
    "import pandas as pd\n",
    "import numpy as np\n",
    "import matplotlib.pyplot as plt\n",
    "%matplotlib inline"
   ]
  },
  {
   "cell_type": "code",
   "execution_count": 84,
   "id": "c5b5297f",
   "metadata": {},
   "outputs": [
    {
     "name": "stdout",
     "output_type": "stream",
     "text": [
      "D:\\Data Science\\Python\\Eye Blinking Dataset\n"
     ]
    }
   ],
   "source": [
    "import io\n",
    "%cd \"D:\\Data Science\\Python\\Eye Blinking Dataset\""
   ]
  },
  {
   "cell_type": "code",
   "execution_count": 85,
   "id": "61eb9e27",
   "metadata": {},
   "outputs": [],
   "source": [
    "eyeblink=pd.read_csv('eye_blink_eeg_data.csv')"
   ]
  },
  {
   "cell_type": "code",
   "execution_count": 86,
   "id": "0475fd62",
   "metadata": {},
   "outputs": [
    {
     "data": {
      "text/html": [
       "<div>\n",
       "<style scoped>\n",
       "    .dataframe tbody tr th:only-of-type {\n",
       "        vertical-align: middle;\n",
       "    }\n",
       "\n",
       "    .dataframe tbody tr th {\n",
       "        vertical-align: top;\n",
       "    }\n",
       "\n",
       "    .dataframe thead th {\n",
       "        text-align: right;\n",
       "    }\n",
       "</style>\n",
       "<table border=\"1\" class=\"dataframe\">\n",
       "  <thead>\n",
       "    <tr style=\"text-align: right;\">\n",
       "      <th></th>\n",
       "      <th>V1</th>\n",
       "      <th>V2</th>\n",
       "      <th>V3</th>\n",
       "      <th>V4</th>\n",
       "      <th>V5</th>\n",
       "      <th>V6</th>\n",
       "      <th>V7</th>\n",
       "      <th>V8</th>\n",
       "      <th>V9</th>\n",
       "      <th>V10</th>\n",
       "      <th>V11</th>\n",
       "      <th>V12</th>\n",
       "      <th>V13</th>\n",
       "      <th>V14</th>\n",
       "      <th>Class</th>\n",
       "    </tr>\n",
       "  </thead>\n",
       "  <tbody>\n",
       "    <tr>\n",
       "      <th>0</th>\n",
       "      <td>4329.23</td>\n",
       "      <td>4009.23</td>\n",
       "      <td>4289.23</td>\n",
       "      <td>4148.21</td>\n",
       "      <td>4350.26</td>\n",
       "      <td>4586.15</td>\n",
       "      <td>4096.92</td>\n",
       "      <td>4641.03</td>\n",
       "      <td>4222.05</td>\n",
       "      <td>4238.46</td>\n",
       "      <td>4211.28</td>\n",
       "      <td>4280.51</td>\n",
       "      <td>4635.90</td>\n",
       "      <td>4393.85</td>\n",
       "      <td>1</td>\n",
       "    </tr>\n",
       "    <tr>\n",
       "      <th>1</th>\n",
       "      <td>4324.62</td>\n",
       "      <td>4004.62</td>\n",
       "      <td>4293.85</td>\n",
       "      <td>4148.72</td>\n",
       "      <td>4342.05</td>\n",
       "      <td>4586.67</td>\n",
       "      <td>4097.44</td>\n",
       "      <td>4638.97</td>\n",
       "      <td>4210.77</td>\n",
       "      <td>4226.67</td>\n",
       "      <td>4207.69</td>\n",
       "      <td>4279.49</td>\n",
       "      <td>4632.82</td>\n",
       "      <td>4384.10</td>\n",
       "      <td>1</td>\n",
       "    </tr>\n",
       "    <tr>\n",
       "      <th>2</th>\n",
       "      <td>4327.69</td>\n",
       "      <td>4006.67</td>\n",
       "      <td>4295.38</td>\n",
       "      <td>4156.41</td>\n",
       "      <td>4336.92</td>\n",
       "      <td>4583.59</td>\n",
       "      <td>4096.92</td>\n",
       "      <td>4630.26</td>\n",
       "      <td>4207.69</td>\n",
       "      <td>4222.05</td>\n",
       "      <td>4206.67</td>\n",
       "      <td>4282.05</td>\n",
       "      <td>4628.72</td>\n",
       "      <td>4389.23</td>\n",
       "      <td>1</td>\n",
       "    </tr>\n",
       "    <tr>\n",
       "      <th>3</th>\n",
       "      <td>4328.72</td>\n",
       "      <td>4011.79</td>\n",
       "      <td>4296.41</td>\n",
       "      <td>4155.90</td>\n",
       "      <td>4343.59</td>\n",
       "      <td>4582.56</td>\n",
       "      <td>4097.44</td>\n",
       "      <td>4630.77</td>\n",
       "      <td>4217.44</td>\n",
       "      <td>4235.38</td>\n",
       "      <td>4210.77</td>\n",
       "      <td>4287.69</td>\n",
       "      <td>4632.31</td>\n",
       "      <td>4396.41</td>\n",
       "      <td>1</td>\n",
       "    </tr>\n",
       "    <tr>\n",
       "      <th>4</th>\n",
       "      <td>4326.15</td>\n",
       "      <td>4011.79</td>\n",
       "      <td>4292.31</td>\n",
       "      <td>4151.28</td>\n",
       "      <td>4347.69</td>\n",
       "      <td>4586.67</td>\n",
       "      <td>4095.90</td>\n",
       "      <td>4627.69</td>\n",
       "      <td>4210.77</td>\n",
       "      <td>4244.10</td>\n",
       "      <td>4212.82</td>\n",
       "      <td>4288.21</td>\n",
       "      <td>4632.82</td>\n",
       "      <td>4398.46</td>\n",
       "      <td>1</td>\n",
       "    </tr>\n",
       "  </tbody>\n",
       "</table>\n",
       "</div>"
      ],
      "text/plain": [
       "        V1       V2       V3       V4       V5       V6       V7       V8  \\\n",
       "0  4329.23  4009.23  4289.23  4148.21  4350.26  4586.15  4096.92  4641.03   \n",
       "1  4324.62  4004.62  4293.85  4148.72  4342.05  4586.67  4097.44  4638.97   \n",
       "2  4327.69  4006.67  4295.38  4156.41  4336.92  4583.59  4096.92  4630.26   \n",
       "3  4328.72  4011.79  4296.41  4155.90  4343.59  4582.56  4097.44  4630.77   \n",
       "4  4326.15  4011.79  4292.31  4151.28  4347.69  4586.67  4095.90  4627.69   \n",
       "\n",
       "        V9      V10      V11      V12      V13      V14  Class  \n",
       "0  4222.05  4238.46  4211.28  4280.51  4635.90  4393.85      1  \n",
       "1  4210.77  4226.67  4207.69  4279.49  4632.82  4384.10      1  \n",
       "2  4207.69  4222.05  4206.67  4282.05  4628.72  4389.23      1  \n",
       "3  4217.44  4235.38  4210.77  4287.69  4632.31  4396.41      1  \n",
       "4  4210.77  4244.10  4212.82  4288.21  4632.82  4398.46      1  "
      ]
     },
     "execution_count": 86,
     "metadata": {},
     "output_type": "execute_result"
    }
   ],
   "source": [
    "eyeblink.head()"
   ]
  },
  {
   "cell_type": "code",
   "execution_count": 87,
   "id": "61b2116e",
   "metadata": {},
   "outputs": [
    {
     "data": {
      "text/plain": [
       "(14980, 15)"
      ]
     },
     "execution_count": 87,
     "metadata": {},
     "output_type": "execute_result"
    }
   ],
   "source": [
    "eyeblink.shape"
   ]
  },
  {
   "cell_type": "code",
   "execution_count": 88,
   "id": "32b952ea",
   "metadata": {},
   "outputs": [
    {
     "data": {
      "text/html": [
       "<div>\n",
       "<style scoped>\n",
       "    .dataframe tbody tr th:only-of-type {\n",
       "        vertical-align: middle;\n",
       "    }\n",
       "\n",
       "    .dataframe tbody tr th {\n",
       "        vertical-align: top;\n",
       "    }\n",
       "\n",
       "    .dataframe thead th {\n",
       "        text-align: right;\n",
       "    }\n",
       "</style>\n",
       "<table border=\"1\" class=\"dataframe\">\n",
       "  <thead>\n",
       "    <tr style=\"text-align: right;\">\n",
       "      <th></th>\n",
       "      <th>V1</th>\n",
       "      <th>V2</th>\n",
       "      <th>V3</th>\n",
       "      <th>V4</th>\n",
       "      <th>V5</th>\n",
       "      <th>V6</th>\n",
       "      <th>V7</th>\n",
       "      <th>V8</th>\n",
       "      <th>V9</th>\n",
       "      <th>V10</th>\n",
       "      <th>V11</th>\n",
       "      <th>V12</th>\n",
       "      <th>V13</th>\n",
       "      <th>V14</th>\n",
       "      <th>Class</th>\n",
       "    </tr>\n",
       "  </thead>\n",
       "  <tbody>\n",
       "    <tr>\n",
       "      <th>14975</th>\n",
       "      <td>4281.03</td>\n",
       "      <td>3990.26</td>\n",
       "      <td>4245.64</td>\n",
       "      <td>4116.92</td>\n",
       "      <td>4333.85</td>\n",
       "      <td>4614.36</td>\n",
       "      <td>4074.87</td>\n",
       "      <td>4625.64</td>\n",
       "      <td>4203.08</td>\n",
       "      <td>4221.54</td>\n",
       "      <td>4171.28</td>\n",
       "      <td>4269.23</td>\n",
       "      <td>4593.33</td>\n",
       "      <td>4340.51</td>\n",
       "      <td>2</td>\n",
       "    </tr>\n",
       "    <tr>\n",
       "      <th>14976</th>\n",
       "      <td>4276.92</td>\n",
       "      <td>3991.79</td>\n",
       "      <td>4245.13</td>\n",
       "      <td>4110.77</td>\n",
       "      <td>4332.82</td>\n",
       "      <td>4615.38</td>\n",
       "      <td>4073.33</td>\n",
       "      <td>4621.54</td>\n",
       "      <td>4194.36</td>\n",
       "      <td>4217.44</td>\n",
       "      <td>4162.56</td>\n",
       "      <td>4259.49</td>\n",
       "      <td>4590.26</td>\n",
       "      <td>4333.33</td>\n",
       "      <td>2</td>\n",
       "    </tr>\n",
       "    <tr>\n",
       "      <th>14977</th>\n",
       "      <td>4277.44</td>\n",
       "      <td>3990.77</td>\n",
       "      <td>4246.67</td>\n",
       "      <td>4113.85</td>\n",
       "      <td>4333.33</td>\n",
       "      <td>4615.38</td>\n",
       "      <td>4072.82</td>\n",
       "      <td>4623.59</td>\n",
       "      <td>4193.33</td>\n",
       "      <td>4212.82</td>\n",
       "      <td>4160.51</td>\n",
       "      <td>4257.95</td>\n",
       "      <td>4591.79</td>\n",
       "      <td>4339.49</td>\n",
       "      <td>2</td>\n",
       "    </tr>\n",
       "    <tr>\n",
       "      <th>14978</th>\n",
       "      <td>4284.62</td>\n",
       "      <td>3991.79</td>\n",
       "      <td>4251.28</td>\n",
       "      <td>4122.05</td>\n",
       "      <td>4334.36</td>\n",
       "      <td>4616.41</td>\n",
       "      <td>4080.51</td>\n",
       "      <td>4628.72</td>\n",
       "      <td>4200.00</td>\n",
       "      <td>4220.00</td>\n",
       "      <td>4165.64</td>\n",
       "      <td>4267.18</td>\n",
       "      <td>4596.41</td>\n",
       "      <td>4350.77</td>\n",
       "      <td>2</td>\n",
       "    </tr>\n",
       "    <tr>\n",
       "      <th>14979</th>\n",
       "      <td>4287.69</td>\n",
       "      <td>3997.44</td>\n",
       "      <td>4260.00</td>\n",
       "      <td>4121.03</td>\n",
       "      <td>4333.33</td>\n",
       "      <td>4616.41</td>\n",
       "      <td>4088.72</td>\n",
       "      <td>4638.46</td>\n",
       "      <td>4212.31</td>\n",
       "      <td>4226.67</td>\n",
       "      <td>4167.69</td>\n",
       "      <td>4274.36</td>\n",
       "      <td>4597.95</td>\n",
       "      <td>4350.77</td>\n",
       "      <td>2</td>\n",
       "    </tr>\n",
       "  </tbody>\n",
       "</table>\n",
       "</div>"
      ],
      "text/plain": [
       "            V1       V2       V3       V4       V5       V6       V7       V8  \\\n",
       "14975  4281.03  3990.26  4245.64  4116.92  4333.85  4614.36  4074.87  4625.64   \n",
       "14976  4276.92  3991.79  4245.13  4110.77  4332.82  4615.38  4073.33  4621.54   \n",
       "14977  4277.44  3990.77  4246.67  4113.85  4333.33  4615.38  4072.82  4623.59   \n",
       "14978  4284.62  3991.79  4251.28  4122.05  4334.36  4616.41  4080.51  4628.72   \n",
       "14979  4287.69  3997.44  4260.00  4121.03  4333.33  4616.41  4088.72  4638.46   \n",
       "\n",
       "            V9      V10      V11      V12      V13      V14  Class  \n",
       "14975  4203.08  4221.54  4171.28  4269.23  4593.33  4340.51      2  \n",
       "14976  4194.36  4217.44  4162.56  4259.49  4590.26  4333.33      2  \n",
       "14977  4193.33  4212.82  4160.51  4257.95  4591.79  4339.49      2  \n",
       "14978  4200.00  4220.00  4165.64  4267.18  4596.41  4350.77      2  \n",
       "14979  4212.31  4226.67  4167.69  4274.36  4597.95  4350.77      2  "
      ]
     },
     "execution_count": 88,
     "metadata": {},
     "output_type": "execute_result"
    }
   ],
   "source": [
    "eyeblink.tail()"
   ]
  },
  {
   "cell_type": "code",
   "execution_count": 89,
   "id": "2b13a07a",
   "metadata": {},
   "outputs": [
    {
     "data": {
      "text/plain": [
       "V1       0\n",
       "V2       0\n",
       "V3       0\n",
       "V4       0\n",
       "V5       0\n",
       "V6       0\n",
       "V7       0\n",
       "V8       0\n",
       "V9       0\n",
       "V10      0\n",
       "V11      0\n",
       "V12      0\n",
       "V13      0\n",
       "V14      0\n",
       "Class    0\n",
       "dtype: int64"
      ]
     },
     "execution_count": 89,
     "metadata": {},
     "output_type": "execute_result"
    }
   ],
   "source": [
    "eyeblink.isnull().sum().sort_values(ascending=False)"
   ]
  },
  {
   "cell_type": "code",
   "execution_count": 90,
   "id": "2708f9d2",
   "metadata": {},
   "outputs": [
    {
     "data": {
      "text/plain": [
       "1    8257\n",
       "2    6723\n",
       "Name: Class, dtype: int64"
      ]
     },
     "execution_count": 90,
     "metadata": {},
     "output_type": "execute_result"
    }
   ],
   "source": [
    "eyeblink.Class.value_counts()"
   ]
  },
  {
   "cell_type": "code",
   "execution_count": 91,
   "id": "9a217928",
   "metadata": {},
   "outputs": [
    {
     "data": {
      "text/plain": [
       "<AxesSubplot:>"
      ]
     },
     "execution_count": 91,
     "metadata": {},
     "output_type": "execute_result"
    },
    {
     "data": {
      "image/png": "[encoded data removed]",
      "text/plain": [
       "<Figure size 432x288 with 1 Axes>"
      ]
     },
     "metadata": {
      "needs_background": "light"
     },
     "output_type": "display_data"
    }
   ],
   "source": [
    "#Bar plot of Dependent Variable\n",
    "eyeblink.Class.value_counts().plot(kind='bar')"
   ]
  },
  {
   "cell_type": "code",
   "execution_count": 92,
   "id": "da0d1d46",
   "metadata": {},
   "outputs": [
    {
     "data": {
      "text/html": [
       "<div>\n",
       "<style scoped>\n",
       "    .dataframe tbody tr th:only-of-type {\n",
       "        vertical-align: middle;\n",
       "    }\n",
       "\n",
       "    .dataframe tbody tr th {\n",
       "        vertical-align: top;\n",
       "    }\n",
       "\n",
       "    .dataframe thead th {\n",
       "        text-align: right;\n",
       "    }\n",
       "</style>\n",
       "<table border=\"1\" class=\"dataframe\">\n",
       "  <thead>\n",
       "    <tr style=\"text-align: right;\">\n",
       "      <th></th>\n",
       "      <th>V1</th>\n",
       "      <th>V2</th>\n",
       "      <th>V3</th>\n",
       "      <th>V4</th>\n",
       "      <th>V5</th>\n",
       "      <th>V6</th>\n",
       "      <th>V7</th>\n",
       "      <th>V8</th>\n",
       "      <th>V9</th>\n",
       "      <th>V10</th>\n",
       "      <th>V11</th>\n",
       "      <th>V12</th>\n",
       "      <th>V13</th>\n",
       "      <th>V14</th>\n",
       "      <th>Class</th>\n",
       "    </tr>\n",
       "  </thead>\n",
       "  <tbody>\n",
       "    <tr>\n",
       "      <th>count</th>\n",
       "      <td>14980.000000</td>\n",
       "      <td>14980.000000</td>\n",
       "      <td>14980.000000</td>\n",
       "      <td>14980.000000</td>\n",
       "      <td>14980.000000</td>\n",
       "      <td>14980.000000</td>\n",
       "      <td>14980.000000</td>\n",
       "      <td>14980.000000</td>\n",
       "      <td>14980.000000</td>\n",
       "      <td>14980.000000</td>\n",
       "      <td>14980.000000</td>\n",
       "      <td>14980.000000</td>\n",
       "      <td>14980.000000</td>\n",
       "      <td>14980.000000</td>\n",
       "      <td>14980.000000</td>\n",
       "    </tr>\n",
       "    <tr>\n",
       "      <th>mean</th>\n",
       "      <td>4321.917777</td>\n",
       "      <td>4009.767694</td>\n",
       "      <td>4264.022433</td>\n",
       "      <td>4164.946326</td>\n",
       "      <td>4341.741075</td>\n",
       "      <td>4644.022379</td>\n",
       "      <td>4110.400160</td>\n",
       "      <td>4616.056904</td>\n",
       "      <td>4218.826610</td>\n",
       "      <td>4231.316200</td>\n",
       "      <td>4202.456900</td>\n",
       "      <td>4279.232774</td>\n",
       "      <td>4615.205336</td>\n",
       "      <td>4416.435832</td>\n",
       "      <td>1.448798</td>\n",
       "    </tr>\n",
       "    <tr>\n",
       "      <th>std</th>\n",
       "      <td>2492.072174</td>\n",
       "      <td>45.941672</td>\n",
       "      <td>44.428052</td>\n",
       "      <td>5216.404632</td>\n",
       "      <td>34.738821</td>\n",
       "      <td>2924.789537</td>\n",
       "      <td>4600.926543</td>\n",
       "      <td>29.292603</td>\n",
       "      <td>2136.408523</td>\n",
       "      <td>38.050903</td>\n",
       "      <td>37.785981</td>\n",
       "      <td>41.544312</td>\n",
       "      <td>1208.369958</td>\n",
       "      <td>5891.285043</td>\n",
       "      <td>0.497388</td>\n",
       "    </tr>\n",
       "    <tr>\n",
       "      <th>min</th>\n",
       "      <td>1030.770000</td>\n",
       "      <td>2830.770000</td>\n",
       "      <td>1040.000000</td>\n",
       "      <td>2453.330000</td>\n",
       "      <td>2089.740000</td>\n",
       "      <td>2768.210000</td>\n",
       "      <td>2086.150000</td>\n",
       "      <td>4567.180000</td>\n",
       "      <td>1357.950000</td>\n",
       "      <td>1816.410000</td>\n",
       "      <td>3273.330000</td>\n",
       "      <td>2257.950000</td>\n",
       "      <td>86.666700</td>\n",
       "      <td>1366.150000</td>\n",
       "      <td>1.000000</td>\n",
       "    </tr>\n",
       "    <tr>\n",
       "      <th>25%</th>\n",
       "      <td>4280.510000</td>\n",
       "      <td>3990.770000</td>\n",
       "      <td>4250.260000</td>\n",
       "      <td>4108.210000</td>\n",
       "      <td>4331.790000</td>\n",
       "      <td>4611.790000</td>\n",
       "      <td>4057.950000</td>\n",
       "      <td>4604.620000</td>\n",
       "      <td>4190.770000</td>\n",
       "      <td>4220.510000</td>\n",
       "      <td>4190.260000</td>\n",
       "      <td>4267.690000</td>\n",
       "      <td>4590.770000</td>\n",
       "      <td>4342.050000</td>\n",
       "      <td>1.000000</td>\n",
       "    </tr>\n",
       "    <tr>\n",
       "      <th>50%</th>\n",
       "      <td>4294.360000</td>\n",
       "      <td>4005.640000</td>\n",
       "      <td>4262.560000</td>\n",
       "      <td>4120.510000</td>\n",
       "      <td>4338.970000</td>\n",
       "      <td>4617.950000</td>\n",
       "      <td>4070.260000</td>\n",
       "      <td>4613.330000</td>\n",
       "      <td>4199.490000</td>\n",
       "      <td>4229.230000</td>\n",
       "      <td>4200.510000</td>\n",
       "      <td>4276.920000</td>\n",
       "      <td>4603.080000</td>\n",
       "      <td>4354.870000</td>\n",
       "      <td>1.000000</td>\n",
       "    </tr>\n",
       "    <tr>\n",
       "      <th>75%</th>\n",
       "      <td>4311.790000</td>\n",
       "      <td>4023.080000</td>\n",
       "      <td>4270.770000</td>\n",
       "      <td>4132.310000</td>\n",
       "      <td>4347.180000</td>\n",
       "      <td>4626.670000</td>\n",
       "      <td>4083.590000</td>\n",
       "      <td>4624.100000</td>\n",
       "      <td>4209.230000</td>\n",
       "      <td>4239.490000</td>\n",
       "      <td>4211.280000</td>\n",
       "      <td>4287.180000</td>\n",
       "      <td>4617.440000</td>\n",
       "      <td>4372.820000</td>\n",
       "      <td>2.000000</td>\n",
       "    </tr>\n",
       "    <tr>\n",
       "      <th>max</th>\n",
       "      <td>309231.000000</td>\n",
       "      <td>7804.620000</td>\n",
       "      <td>6880.510000</td>\n",
       "      <td>642564.000000</td>\n",
       "      <td>6474.360000</td>\n",
       "      <td>362564.000000</td>\n",
       "      <td>567179.000000</td>\n",
       "      <td>7264.100000</td>\n",
       "      <td>265641.000000</td>\n",
       "      <td>6674.360000</td>\n",
       "      <td>6823.080000</td>\n",
       "      <td>7002.560000</td>\n",
       "      <td>152308.000000</td>\n",
       "      <td>715897.000000</td>\n",
       "      <td>2.000000</td>\n",
       "    </tr>\n",
       "  </tbody>\n",
       "</table>\n",
       "</div>"
      ],
      "text/plain": [
       "                  V1            V2            V3             V4            V5  \\\n",
       "count   14980.000000  14980.000000  14980.000000   14980.000000  14980.000000   \n",
       "mean     4321.917777   4009.767694   4264.022433    4164.946326   4341.741075   \n",
       "std      2492.072174     45.941672     44.428052    5216.404632     34.738821   \n",
       "min      1030.770000   2830.770000   1040.000000    2453.330000   2089.740000   \n",
       "25%      4280.510000   3990.770000   4250.260000    4108.210000   4331.790000   \n",
       "50%      4294.360000   4005.640000   4262.560000    4120.510000   4338.970000   \n",
       "75%      4311.790000   4023.080000   4270.770000    4132.310000   4347.180000   \n",
       "max    309231.000000   7804.620000   6880.510000  642564.000000   6474.360000   \n",
       "\n",
       "                  V6             V7            V8             V9  \\\n",
       "count   14980.000000   14980.000000  14980.000000   14980.000000   \n",
       "mean     4644.022379    4110.400160   4616.056904    4218.826610   \n",
       "std      2924.789537    4600.926543     29.292603    2136.408523   \n",
       "min      2768.210000    2086.150000   4567.180000    1357.950000   \n",
       "25%      4611.790000    4057.950000   4604.620000    4190.770000   \n",
       "50%      4617.950000    4070.260000   4613.330000    4199.490000   \n",
       "75%      4626.670000    4083.590000   4624.100000    4209.230000   \n",
       "max    362564.000000  567179.000000   7264.100000  265641.000000   \n",
       "\n",
       "                V10           V11           V12            V13            V14  \\\n",
       "count  14980.000000  14980.000000  14980.000000   14980.000000   14980.000000   \n",
       "mean    4231.316200   4202.456900   4279.232774    4615.205336    4416.435832   \n",
       "std       38.050903     37.785981     41.544312    1208.369958    5891.285043   \n",
       "min     1816.410000   3273.330000   2257.950000      86.666700    1366.150000   \n",
       "25%     4220.510000   4190.260000   4267.690000    4590.770000    4342.050000   \n",
       "50%     4229.230000   4200.510000   4276.920000    4603.080000    4354.870000   \n",
       "75%     4239.490000   4211.280000   4287.180000    4617.440000    4372.820000   \n",
       "max     6674.360000   6823.080000   7002.560000  152308.000000  715897.000000   \n",
       "\n",
       "              Class  \n",
       "count  14980.000000  \n",
       "mean       1.448798  \n",
       "std        0.497388  \n",
       "min        1.000000  \n",
       "25%        1.000000  \n",
       "50%        1.000000  \n",
       "75%        2.000000  \n",
       "max        2.000000  "
      ]
     },
     "execution_count": 92,
     "metadata": {},
     "output_type": "execute_result"
    }
   ],
   "source": [
    "eyeblink.describe()"
   ]
  },
  {
   "cell_type": "code",
   "execution_count": 93,
   "id": "05e76fc6",
   "metadata": {},
   "outputs": [
    {
     "data": {
      "text/plain": [
       "<AxesSubplot:>"
      ]
     },
     "execution_count": 93,
     "metadata": {},
     "output_type": "execute_result"
    },
    {
     "data": {
      "image/png": "[encoded data removed]",
      "text/plain": [
       "<Figure size 432x288 with 1 Axes>"
      ]
     },
     "metadata": {
      "needs_background": "light"
     },
     "output_type": "display_data"
    }
   ],
   "source": [
    "eyeblink.V1.plot(kind='box',vert=False)"
   ]
  },
  {
   "cell_type": "code",
   "execution_count": 94,
   "id": "e27da7bc",
   "metadata": {},
   "outputs": [
    {
     "data": {
      "image/png": "[encoded data removed]",
      "text/plain": [
       "<Figure size 432x288 with 1 Axes>"
      ]
     },
     "metadata": {
      "needs_background": "light"
     },
     "output_type": "display_data"
    }
   ],
   "source": [
    "plt.boxplot(eyeblink,vert=False)\n",
    "plt.show()"
   ]
  },
  {
   "cell_type": "code",
   "execution_count": 95,
   "id": "dce3aa81",
   "metadata": {},
   "outputs": [],
   "source": [
    "eyeblink_df=eyeblink[~(eyeblink>10000).any(axis=1)] #If any row has value greater than 10000 in any column, the whole row will be deleted"
   ]
  },
  {
   "cell_type": "code",
   "execution_count": 96,
   "id": "f09112d8",
   "metadata": {},
   "outputs": [
    {
     "data": {
      "text/plain": [
       "(14977, 15)"
      ]
     },
     "execution_count": 96,
     "metadata": {},
     "output_type": "execute_result"
    }
   ],
   "source": [
    "eyeblink_df.shape"
   ]
  },
  {
   "cell_type": "code",
   "execution_count": 97,
   "id": "fcdf34bb",
   "metadata": {},
   "outputs": [
    {
     "data": {
      "image/png": "[encoded data removed]",
      "text/plain": [
       "<Figure size 432x288 with 1 Axes>"
      ]
     },
     "metadata": {
      "needs_background": "light"
     },
     "output_type": "display_data"
    }
   ],
   "source": [
    "plt.boxplot(eyeblink_df)\n",
    "plt.show()"
   ]
  },
  {
   "cell_type": "code",
   "execution_count": 98,
   "id": "ecaf7210",
   "metadata": {},
   "outputs": [],
   "source": [
    "y=eyeblink_df.Class\n",
    "X=eyeblink_df.drop('Class',axis=1)"
   ]
  },
  {
   "cell_type": "code",
   "execution_count": 99,
   "id": "319513d0",
   "metadata": {},
   "outputs": [],
   "source": [
    "from sklearn.preprocessing import StandardScaler"
   ]
  },
  {
   "cell_type": "code",
   "execution_count": 100,
   "id": "8fc04912",
   "metadata": {},
   "outputs": [],
   "source": [
    "scaler=StandardScaler()"
   ]
  },
  {
   "cell_type": "code",
   "execution_count": 101,
   "id": "63c431ca",
   "metadata": {},
   "outputs": [],
   "source": [
    "X_scale=scaler.fit_transform(X)"
   ]
  },
  {
   "cell_type": "code",
   "execution_count": 102,
   "id": "700eb496",
   "metadata": {},
   "outputs": [],
   "source": [
    "X_scale=pd.DataFrame(X_scale,columns=X.columns)"
   ]
  },
  {
   "cell_type": "code",
   "execution_count": 103,
   "id": "eb942da0",
   "metadata": {},
   "outputs": [
    {
     "data": {
      "image/png": "[encoded data removed]",
      "text/plain": [
       "<Figure size 432x288 with 1 Axes>"
      ]
     },
     "metadata": {
      "needs_background": "light"
     },
     "output_type": "display_data"
    }
   ],
   "source": [
    "plt.boxplot(X_scale)\n",
    "plt.show()"
   ]
  },
  {
   "cell_type": "code",
   "execution_count": 104,
   "id": "63378b75",
   "metadata": {},
   "outputs": [],
   "source": [
    "from sklearn.preprocessing import MinMaxScaler"
   ]
  },
  {
   "cell_type": "code",
   "execution_count": 105,
   "id": "2228bba9",
   "metadata": {},
   "outputs": [],
   "source": [
    "minmax=MinMaxScaler()"
   ]
  },
  {
   "cell_type": "code",
   "execution_count": 106,
   "id": "8f01fcbe",
   "metadata": {},
   "outputs": [],
   "source": [
    "X_minmax=minmax.fit_transform(X)"
   ]
  },
  {
   "cell_type": "code",
   "execution_count": 107,
   "id": "33388f8c",
   "metadata": {},
   "outputs": [
    {
     "data": {
      "image/png": "[encoded data removed]",
      "text/plain": [
       "<Figure size 432x288 with 1 Axes>"
      ]
     },
     "metadata": {
      "needs_background": "light"
     },
     "output_type": "display_data"
    }
   ],
   "source": [
    "plt.boxplot(X_minmax)\n",
    "plt.show()"
   ]
  },
  {
   "cell_type": "code",
   "execution_count": 108,
   "id": "3ac84a0d",
   "metadata": {},
   "outputs": [],
   "source": [
    "from sklearn.preprocessing import RobustScaler"
   ]
  },
  {
   "cell_type": "code",
   "execution_count": 109,
   "id": "8f20d5bc",
   "metadata": {},
   "outputs": [],
   "source": [
    "robust=RobustScaler()"
   ]
  },
  {
   "cell_type": "code",
   "execution_count": 110,
   "id": "c877e1f4",
   "metadata": {},
   "outputs": [],
   "source": [
    "X_robust=robust.fit_transform(X)"
   ]
  },
  {
   "cell_type": "code",
   "execution_count": 111,
   "id": "2a8d14de",
   "metadata": {},
   "outputs": [
    {
     "data": {
      "image/png": "[encoded data removed]",
      "text/plain": [
       "<Figure size 432x288 with 1 Axes>"
      ]
     },
     "metadata": {
      "needs_background": "light"
     },
     "output_type": "display_data"
    }
   ],
   "source": [
    "plt.boxplot(X_robust)\n",
    "plt.show()"
   ]
  },
  {
   "cell_type": "code",
   "execution_count": 112,
   "id": "db8f9f6d",
   "metadata": {},
   "outputs": [],
   "source": [
    "from sklearn.preprocessing import LabelEncoder"
   ]
  },
  {
   "cell_type": "code",
   "execution_count": 113,
   "id": "ec2c069e",
   "metadata": {},
   "outputs": [],
   "source": [
    "le=LabelEncoder()"
   ]
  },
  {
   "cell_type": "code",
   "execution_count": 114,
   "id": "2ce7ee77",
   "metadata": {},
   "outputs": [],
   "source": [
    "y=le.fit_transform(y)"
   ]
  },
  {
   "cell_type": "code",
   "execution_count": 115,
   "id": "4f6f9459",
   "metadata": {},
   "outputs": [],
   "source": [
    "from sklearn.linear_model import LogisticRegression"
   ]
  },
  {
   "cell_type": "code",
   "execution_count": 116,
   "id": "5adbf7c1",
   "metadata": {},
   "outputs": [],
   "source": [
    "logit=LogisticRegression()"
   ]
  },
  {
   "cell_type": "code",
   "execution_count": 117,
   "id": "ce9e7c7d",
   "metadata": {},
   "outputs": [],
   "source": [
    "logitmodel=logit.fit(X,y)"
   ]
  },
  {
   "cell_type": "code",
   "execution_count": 118,
   "id": "c3513f16",
   "metadata": {},
   "outputs": [
    {
     "data": {
      "text/plain": [
       "0.6443212926487281"
      ]
     },
     "execution_count": 118,
     "metadata": {},
     "output_type": "execute_result"
    }
   ],
   "source": [
    "logitmodel.score(X,y)"
   ]
  },
  {
   "cell_type": "code",
   "execution_count": 119,
   "id": "a480f2a3",
   "metadata": {},
   "outputs": [],
   "source": [
    "logitpredict=logitmodel.predict(X)"
   ]
  },
  {
   "cell_type": "code",
   "execution_count": 120,
   "id": "32c5ed6e",
   "metadata": {},
   "outputs": [],
   "source": [
    "from sklearn.metrics import classification_report,plot_roc_curve"
   ]
  },
  {
   "cell_type": "code",
   "execution_count": 121,
   "id": "e75d869b",
   "metadata": {},
   "outputs": [
    {
     "name": "stdout",
     "output_type": "stream",
     "text": [
      "              precision    recall  f1-score   support\n",
      "\n",
      "           0       0.65      0.78      0.71      8255\n",
      "           1       0.64      0.48      0.55      6722\n",
      "\n",
      "    accuracy                           0.64     14977\n",
      "   macro avg       0.64      0.63      0.63     14977\n",
      "weighted avg       0.64      0.64      0.64     14977\n",
      "\n"
     ]
    }
   ],
   "source": [
    "print(classification_report(y,logitpredict))"
   ]
  },
  {
   "cell_type": "code",
   "execution_count": 122,
   "id": "cc6cccd8",
   "metadata": {},
   "outputs": [
    {
     "name": "stderr",
     "output_type": "stream",
     "text": [
      "C:\\Users\\asus\\anaconda3\\lib\\site-packages\\sklearn\\utils\\deprecation.py:87: FutureWarning: Function plot_roc_curve is deprecated; Function :func:`plot_roc_curve` is deprecated in 1.0 and will be removed in 1.2. Use one of the class methods: :meth:`sklearn.metric.RocCurveDisplay.from_predictions` or :meth:`sklearn.metric.RocCurveDisplay.from_estimator`.\n",
      "  warnings.warn(msg, category=FutureWarning)\n"
     ]
    },
    {
     "data": {
      "text/plain": [
       "<sklearn.metrics._plot.roc_curve.RocCurveDisplay at 0x141db8d5970>"
      ]
     },
     "execution_count": 122,
     "metadata": {},
     "output_type": "execute_result"
    },
    {
     "data": {
      "image/png": "[encoded data removed]",
      "text/plain": [
       "<Figure size 432x288 with 1 Axes>"
      ]
     },
     "metadata": {
      "needs_background": "light"
     },
     "output_type": "display_data"
    }
   ],
   "source": [
    "plot_roc_curve(logit,X,y)"
   ]
  },
  {
   "cell_type": "code",
   "execution_count": 123,
   "id": "95063f31",
   "metadata": {},
   "outputs": [
    {
     "data": {
      "text/html": [
       "<div>\n",
       "<style scoped>\n",
       "    .dataframe tbody tr th:only-of-type {\n",
       "        vertical-align: middle;\n",
       "    }\n",
       "\n",
       "    .dataframe tbody tr th {\n",
       "        vertical-align: top;\n",
       "    }\n",
       "\n",
       "    .dataframe thead th {\n",
       "        text-align: right;\n",
       "    }\n",
       "</style>\n",
       "<table border=\"1\" class=\"dataframe\">\n",
       "  <thead>\n",
       "    <tr style=\"text-align: right;\">\n",
       "      <th></th>\n",
       "      <th>V1</th>\n",
       "      <th>V2</th>\n",
       "      <th>V3</th>\n",
       "      <th>V4</th>\n",
       "      <th>V5</th>\n",
       "      <th>V6</th>\n",
       "      <th>V7</th>\n",
       "      <th>V8</th>\n",
       "      <th>V9</th>\n",
       "      <th>V10</th>\n",
       "      <th>V11</th>\n",
       "      <th>V12</th>\n",
       "      <th>V13</th>\n",
       "      <th>V14</th>\n",
       "    </tr>\n",
       "  </thead>\n",
       "  <tbody>\n",
       "    <tr>\n",
       "      <th>V1</th>\n",
       "      <td>1.000000</td>\n",
       "      <td>-0.081866</td>\n",
       "      <td>0.247190</td>\n",
       "      <td>0.730114</td>\n",
       "      <td>0.617506</td>\n",
       "      <td>0.511243</td>\n",
       "      <td>0.364078</td>\n",
       "      <td>-0.322129</td>\n",
       "      <td>0.156287</td>\n",
       "      <td>-0.122625</td>\n",
       "      <td>0.326919</td>\n",
       "      <td>0.007475</td>\n",
       "      <td>0.843687</td>\n",
       "      <td>0.959540</td>\n",
       "    </tr>\n",
       "    <tr>\n",
       "      <th>V2</th>\n",
       "      <td>-0.081866</td>\n",
       "      <td>1.000000</td>\n",
       "      <td>0.698670</td>\n",
       "      <td>0.045628</td>\n",
       "      <td>-0.294902</td>\n",
       "      <td>-0.276618</td>\n",
       "      <td>0.041945</td>\n",
       "      <td>0.595046</td>\n",
       "      <td>0.222921</td>\n",
       "      <td>0.596853</td>\n",
       "      <td>0.386452</td>\n",
       "      <td>0.708559</td>\n",
       "      <td>-0.416208</td>\n",
       "      <td>-0.142180</td>\n",
       "    </tr>\n",
       "    <tr>\n",
       "      <th>V3</th>\n",
       "      <td>0.247190</td>\n",
       "      <td>0.698670</td>\n",
       "      <td>1.000000</td>\n",
       "      <td>0.284360</td>\n",
       "      <td>0.013593</td>\n",
       "      <td>0.084778</td>\n",
       "      <td>0.324091</td>\n",
       "      <td>0.685710</td>\n",
       "      <td>0.567338</td>\n",
       "      <td>0.744536</td>\n",
       "      <td>0.703818</td>\n",
       "      <td>0.853717</td>\n",
       "      <td>-0.005947</td>\n",
       "      <td>0.250742</td>\n",
       "    </tr>\n",
       "    <tr>\n",
       "      <th>V4</th>\n",
       "      <td>0.730114</td>\n",
       "      <td>0.045628</td>\n",
       "      <td>0.284360</td>\n",
       "      <td>1.000000</td>\n",
       "      <td>0.787525</td>\n",
       "      <td>0.698428</td>\n",
       "      <td>0.428526</td>\n",
       "      <td>-0.223271</td>\n",
       "      <td>0.209241</td>\n",
       "      <td>-0.151801</td>\n",
       "      <td>0.156156</td>\n",
       "      <td>-0.088074</td>\n",
       "      <td>0.607605</td>\n",
       "      <td>0.627497</td>\n",
       "    </tr>\n",
       "    <tr>\n",
       "      <th>V5</th>\n",
       "      <td>0.617506</td>\n",
       "      <td>-0.294902</td>\n",
       "      <td>0.013593</td>\n",
       "      <td>0.787525</td>\n",
       "      <td>1.000000</td>\n",
       "      <td>0.903350</td>\n",
       "      <td>0.579980</td>\n",
       "      <td>-0.272688</td>\n",
       "      <td>0.300061</td>\n",
       "      <td>-0.221311</td>\n",
       "      <td>0.118345</td>\n",
       "      <td>-0.302552</td>\n",
       "      <td>0.708764</td>\n",
       "      <td>0.565151</td>\n",
       "    </tr>\n",
       "    <tr>\n",
       "      <th>V6</th>\n",
       "      <td>0.511243</td>\n",
       "      <td>-0.276618</td>\n",
       "      <td>0.084778</td>\n",
       "      <td>0.698428</td>\n",
       "      <td>0.903350</td>\n",
       "      <td>1.000000</td>\n",
       "      <td>0.618751</td>\n",
       "      <td>-0.121945</td>\n",
       "      <td>0.430289</td>\n",
       "      <td>-0.093808</td>\n",
       "      <td>0.170120</td>\n",
       "      <td>-0.206095</td>\n",
       "      <td>0.630244</td>\n",
       "      <td>0.479702</td>\n",
       "    </tr>\n",
       "    <tr>\n",
       "      <th>V7</th>\n",
       "      <td>0.364078</td>\n",
       "      <td>0.041945</td>\n",
       "      <td>0.324091</td>\n",
       "      <td>0.428526</td>\n",
       "      <td>0.579980</td>\n",
       "      <td>0.618751</td>\n",
       "      <td>1.000000</td>\n",
       "      <td>0.265441</td>\n",
       "      <td>0.612663</td>\n",
       "      <td>0.262532</td>\n",
       "      <td>0.421013</td>\n",
       "      <td>0.243543</td>\n",
       "      <td>0.393574</td>\n",
       "      <td>0.377997</td>\n",
       "    </tr>\n",
       "    <tr>\n",
       "      <th>V8</th>\n",
       "      <td>-0.322129</td>\n",
       "      <td>0.595046</td>\n",
       "      <td>0.685710</td>\n",
       "      <td>-0.223271</td>\n",
       "      <td>-0.272688</td>\n",
       "      <td>-0.121945</td>\n",
       "      <td>0.265441</td>\n",
       "      <td>1.000000</td>\n",
       "      <td>0.684224</td>\n",
       "      <td>0.871469</td>\n",
       "      <td>0.600308</td>\n",
       "      <td>0.822556</td>\n",
       "      <td>-0.385912</td>\n",
       "      <td>-0.253740</td>\n",
       "    </tr>\n",
       "    <tr>\n",
       "      <th>V9</th>\n",
       "      <td>0.156287</td>\n",
       "      <td>0.222921</td>\n",
       "      <td>0.567338</td>\n",
       "      <td>0.209241</td>\n",
       "      <td>0.300061</td>\n",
       "      <td>0.430289</td>\n",
       "      <td>0.612663</td>\n",
       "      <td>0.684224</td>\n",
       "      <td>1.000000</td>\n",
       "      <td>0.697048</td>\n",
       "      <td>0.688884</td>\n",
       "      <td>0.570475</td>\n",
       "      <td>0.226201</td>\n",
       "      <td>0.230172</td>\n",
       "    </tr>\n",
       "    <tr>\n",
       "      <th>V10</th>\n",
       "      <td>-0.122625</td>\n",
       "      <td>0.596853</td>\n",
       "      <td>0.744536</td>\n",
       "      <td>-0.151801</td>\n",
       "      <td>-0.221311</td>\n",
       "      <td>-0.093808</td>\n",
       "      <td>0.262532</td>\n",
       "      <td>0.871469</td>\n",
       "      <td>0.697048</td>\n",
       "      <td>1.000000</td>\n",
       "      <td>0.755020</td>\n",
       "      <td>0.887819</td>\n",
       "      <td>-0.190130</td>\n",
       "      <td>-0.032037</td>\n",
       "    </tr>\n",
       "    <tr>\n",
       "      <th>V11</th>\n",
       "      <td>0.326919</td>\n",
       "      <td>0.386452</td>\n",
       "      <td>0.703818</td>\n",
       "      <td>0.156156</td>\n",
       "      <td>0.118345</td>\n",
       "      <td>0.170120</td>\n",
       "      <td>0.421013</td>\n",
       "      <td>0.600308</td>\n",
       "      <td>0.688884</td>\n",
       "      <td>0.755020</td>\n",
       "      <td>1.000000</td>\n",
       "      <td>0.761229</td>\n",
       "      <td>0.309988</td>\n",
       "      <td>0.429807</td>\n",
       "    </tr>\n",
       "    <tr>\n",
       "      <th>V12</th>\n",
       "      <td>0.007475</td>\n",
       "      <td>0.708559</td>\n",
       "      <td>0.853717</td>\n",
       "      <td>-0.088074</td>\n",
       "      <td>-0.302552</td>\n",
       "      <td>-0.206095</td>\n",
       "      <td>0.243543</td>\n",
       "      <td>0.822556</td>\n",
       "      <td>0.570475</td>\n",
       "      <td>0.887819</td>\n",
       "      <td>0.761229</td>\n",
       "      <td>1.000000</td>\n",
       "      <td>-0.180469</td>\n",
       "      <td>0.075497</td>\n",
       "    </tr>\n",
       "    <tr>\n",
       "      <th>V13</th>\n",
       "      <td>0.843687</td>\n",
       "      <td>-0.416208</td>\n",
       "      <td>-0.005947</td>\n",
       "      <td>0.607605</td>\n",
       "      <td>0.708764</td>\n",
       "      <td>0.630244</td>\n",
       "      <td>0.393574</td>\n",
       "      <td>-0.385912</td>\n",
       "      <td>0.226201</td>\n",
       "      <td>-0.190130</td>\n",
       "      <td>0.309988</td>\n",
       "      <td>-0.180469</td>\n",
       "      <td>1.000000</td>\n",
       "      <td>0.887244</td>\n",
       "    </tr>\n",
       "    <tr>\n",
       "      <th>V14</th>\n",
       "      <td>0.959540</td>\n",
       "      <td>-0.142180</td>\n",
       "      <td>0.250742</td>\n",
       "      <td>0.627497</td>\n",
       "      <td>0.565151</td>\n",
       "      <td>0.479702</td>\n",
       "      <td>0.377997</td>\n",
       "      <td>-0.253740</td>\n",
       "      <td>0.230172</td>\n",
       "      <td>-0.032037</td>\n",
       "      <td>0.429807</td>\n",
       "      <td>0.075497</td>\n",
       "      <td>0.887244</td>\n",
       "      <td>1.000000</td>\n",
       "    </tr>\n",
       "  </tbody>\n",
       "</table>\n",
       "</div>"
      ],
      "text/plain": [
       "           V1        V2        V3        V4        V5        V6        V7  \\\n",
       "V1   1.000000 -0.081866  0.247190  0.730114  0.617506  0.511243  0.364078   \n",
       "V2  -0.081866  1.000000  0.698670  0.045628 -0.294902 -0.276618  0.041945   \n",
       "V3   0.247190  0.698670  1.000000  0.284360  0.013593  0.084778  0.324091   \n",
       "V4   0.730114  0.045628  0.284360  1.000000  0.787525  0.698428  0.428526   \n",
       "V5   0.617506 -0.294902  0.013593  0.787525  1.000000  0.903350  0.579980   \n",
       "V6   0.511243 -0.276618  0.084778  0.698428  0.903350  1.000000  0.618751   \n",
       "V7   0.364078  0.041945  0.324091  0.428526  0.579980  0.618751  1.000000   \n",
       "V8  -0.322129  0.595046  0.685710 -0.223271 -0.272688 -0.121945  0.265441   \n",
       "V9   0.156287  0.222921  0.567338  0.209241  0.300061  0.430289  0.612663   \n",
       "V10 -0.122625  0.596853  0.744536 -0.151801 -0.221311 -0.093808  0.262532   \n",
       "V11  0.326919  0.386452  0.703818  0.156156  0.118345  0.170120  0.421013   \n",
       "V12  0.007475  0.708559  0.853717 -0.088074 -0.302552 -0.206095  0.243543   \n",
       "V13  0.843687 -0.416208 -0.005947  0.607605  0.708764  0.630244  0.393574   \n",
       "V14  0.959540 -0.142180  0.250742  0.627497  0.565151  0.479702  0.377997   \n",
       "\n",
       "           V8        V9       V10       V11       V12       V13       V14  \n",
       "V1  -0.322129  0.156287 -0.122625  0.326919  0.007475  0.843687  0.959540  \n",
       "V2   0.595046  0.222921  0.596853  0.386452  0.708559 -0.416208 -0.142180  \n",
       "V3   0.685710  0.567338  0.744536  0.703818  0.853717 -0.005947  0.250742  \n",
       "V4  -0.223271  0.209241 -0.151801  0.156156 -0.088074  0.607605  0.627497  \n",
       "V5  -0.272688  0.300061 -0.221311  0.118345 -0.302552  0.708764  0.565151  \n",
       "V6  -0.121945  0.430289 -0.093808  0.170120 -0.206095  0.630244  0.479702  \n",
       "V7   0.265441  0.612663  0.262532  0.421013  0.243543  0.393574  0.377997  \n",
       "V8   1.000000  0.684224  0.871469  0.600308  0.822556 -0.385912 -0.253740  \n",
       "V9   0.684224  1.000000  0.697048  0.688884  0.570475  0.226201  0.230172  \n",
       "V10  0.871469  0.697048  1.000000  0.755020  0.887819 -0.190130 -0.032037  \n",
       "V11  0.600308  0.688884  0.755020  1.000000  0.761229  0.309988  0.429807  \n",
       "V12  0.822556  0.570475  0.887819  0.761229  1.000000 -0.180469  0.075497  \n",
       "V13 -0.385912  0.226201 -0.190130  0.309988 -0.180469  1.000000  0.887244  \n",
       "V14 -0.253740  0.230172 -0.032037  0.429807  0.075497  0.887244  1.000000  "
      ]
     },
     "execution_count": 123,
     "metadata": {},
     "output_type": "execute_result"
    }
   ],
   "source": [
    "X.corr()"
   ]
  },
  {
   "cell_type": "code",
   "execution_count": 124,
   "id": "4cbc5fb4",
   "metadata": {},
   "outputs": [
    {
     "data": {
      "image/png": "[encoded data removed]",
      "text/plain": [
       "<Figure size 1440x1440 with 2 Axes>"
      ]
     },
     "metadata": {
      "needs_background": "light"
     },
     "output_type": "display_data"
    }
   ],
   "source": [
    "import seaborn as sns\n",
    "plt.figure(figsize=(20,20))\n",
    "sns.heatmap(X.corr(),annot=True)\n",
    "plt.show()"
   ]
  },
  {
   "cell_type": "code",
   "execution_count": 125,
   "id": "a77be99f",
   "metadata": {},
   "outputs": [],
   "source": [
    "from sklearn.tree import DecisionTreeClassifier"
   ]
  },
  {
   "cell_type": "code",
   "execution_count": 144,
   "id": "7f3bcbed",
   "metadata": {},
   "outputs": [],
   "source": [
    "tree=DecisionTreeClassifier(max_depth=14)"
   ]
  },
  {
   "cell_type": "code",
   "execution_count": 145,
   "id": "82ba9b05",
   "metadata": {},
   "outputs": [],
   "source": [
    "treemodel=tree.fit(X,y)"
   ]
  },
  {
   "cell_type": "code",
   "execution_count": 146,
   "id": "734ad7d4",
   "metadata": {},
   "outputs": [
    {
     "data": {
      "text/plain": [
       "0.9332309541296655"
      ]
     },
     "execution_count": 146,
     "metadata": {},
     "output_type": "execute_result"
    }
   ],
   "source": [
    "treemodel.score(X,y)"
   ]
  },
  {
   "cell_type": "code",
   "execution_count": 196,
   "id": "ae103c0a",
   "metadata": {},
   "outputs": [],
   "source": [
    "from sklearn.model_selection import cross_val_score"
   ]
  },
  {
   "cell_type": "code",
   "execution_count": 197,
   "id": "51261770",
   "metadata": {},
   "outputs": [
    {
     "data": {
      "text/plain": [
       "array([0.58477971, 0.58144192, 0.43505843, 0.43405676, 0.45141903])"
      ]
     },
     "execution_count": 197,
     "metadata": {},
     "output_type": "execute_result"
    }
   ],
   "source": [
    "cross_val_score(tree,X,y)"
   ]
  },
  {
   "cell_type": "code",
   "execution_count": 147,
   "id": "ab66d530",
   "metadata": {},
   "outputs": [],
   "source": [
    "treepredict=treemodel.predict(X)"
   ]
  },
  {
   "cell_type": "code",
   "execution_count": 148,
   "id": "f7e62f58",
   "metadata": {},
   "outputs": [
    {
     "name": "stdout",
     "output_type": "stream",
     "text": [
      "              precision    recall  f1-score   support\n",
      "\n",
      "           0       0.92      0.97      0.94      8255\n",
      "           1       0.95      0.89      0.92      6722\n",
      "\n",
      "    accuracy                           0.93     14977\n",
      "   macro avg       0.94      0.93      0.93     14977\n",
      "weighted avg       0.93      0.93      0.93     14977\n",
      "\n"
     ]
    }
   ],
   "source": [
    "print(classification_report(y,treepredict))"
   ]
  },
  {
   "cell_type": "code",
   "execution_count": 149,
   "id": "89f38b81",
   "metadata": {},
   "outputs": [
    {
     "name": "stderr",
     "output_type": "stream",
     "text": [
      "C:\\Users\\asus\\anaconda3\\lib\\site-packages\\sklearn\\utils\\deprecation.py:87: FutureWarning: Function plot_roc_curve is deprecated; Function :func:`plot_roc_curve` is deprecated in 1.0 and will be removed in 1.2. Use one of the class methods: :meth:`sklearn.metric.RocCurveDisplay.from_predictions` or :meth:`sklearn.metric.RocCurveDisplay.from_estimator`.\n",
      "  warnings.warn(msg, category=FutureWarning)\n"
     ]
    },
    {
     "data": {
      "text/plain": [
       "<sklearn.metrics._plot.roc_curve.RocCurveDisplay at 0x141d9cd7c10>"
      ]
     },
     "execution_count": 149,
     "metadata": {},
     "output_type": "execute_result"
    },
    {
     "data": {
      "image/png": "[encoded data removed]",
      "text/plain": [
       "<Figure size 432x288 with 1 Axes>"
      ]
     },
     "metadata": {
      "needs_background": "light"
     },
     "output_type": "display_data"
    }
   ],
   "source": [
    "plot_roc_curve(tree,X,y)"
   ]
  },
  {
   "cell_type": "code",
   "execution_count": 150,
   "id": "a71452a6",
   "metadata": {},
   "outputs": [],
   "source": [
    "from sklearn.ensemble import RandomForestClassifier"
   ]
  },
  {
   "cell_type": "code",
   "execution_count": 198,
   "id": "539210d3",
   "metadata": {},
   "outputs": [],
   "source": [
    "rf=RandomForestClassifier(n_estimators=2000)"
   ]
  },
  {
   "cell_type": "code",
   "execution_count": 199,
   "id": "54ffb72a",
   "metadata": {},
   "outputs": [],
   "source": [
    "rfmodel=rf.fit(X,y)"
   ]
  },
  {
   "cell_type": "code",
   "execution_count": 200,
   "id": "e30b4aee",
   "metadata": {},
   "outputs": [
    {
     "data": {
      "text/plain": [
       "1.0"
      ]
     },
     "execution_count": 200,
     "metadata": {},
     "output_type": "execute_result"
    }
   ],
   "source": [
    "rfmodel.score(X,y)"
   ]
  },
  {
   "cell_type": "code",
   "execution_count": 201,
   "id": "29278415",
   "metadata": {},
   "outputs": [],
   "source": [
    "rfpredict=rfmodel.predict(X)"
   ]
  },
  {
   "cell_type": "code",
   "execution_count": 202,
   "id": "c21b5034",
   "metadata": {},
   "outputs": [
    {
     "name": "stdout",
     "output_type": "stream",
     "text": [
      "              precision    recall  f1-score   support\n",
      "\n",
      "           0       1.00      1.00      1.00      8255\n",
      "           1       1.00      1.00      1.00      6722\n",
      "\n",
      "    accuracy                           1.00     14977\n",
      "   macro avg       1.00      1.00      1.00     14977\n",
      "weighted avg       1.00      1.00      1.00     14977\n",
      "\n"
     ]
    }
   ],
   "source": [
    "print(classification_report(y,rfpredict))"
   ]
  },
  {
   "cell_type": "code",
   "execution_count": 203,
   "id": "7f41084b",
   "metadata": {},
   "outputs": [
    {
     "name": "stderr",
     "output_type": "stream",
     "text": [
      "C:\\Users\\asus\\anaconda3\\lib\\site-packages\\sklearn\\utils\\deprecation.py:87: FutureWarning: Function plot_roc_curve is deprecated; Function :func:`plot_roc_curve` is deprecated in 1.0 and will be removed in 1.2. Use one of the class methods: :meth:`sklearn.metric.RocCurveDisplay.from_predictions` or :meth:`sklearn.metric.RocCurveDisplay.from_estimator`.\n",
      "  warnings.warn(msg, category=FutureWarning)\n"
     ]
    },
    {
     "data": {
      "text/plain": [
       "<sklearn.metrics._plot.roc_curve.RocCurveDisplay at 0x141db5348b0>"
      ]
     },
     "execution_count": 203,
     "metadata": {},
     "output_type": "execute_result"
    },
    {
     "data": {
      "image/png": "[encoded data removed]",
      "text/plain": [
       "<Figure size 432x288 with 1 Axes>"
      ]
     },
     "metadata": {
      "needs_background": "light"
     },
     "output_type": "display_data"
    }
   ],
   "source": [
    "plot_roc_curve(rf,X,y)"
   ]
  },
  {
   "cell_type": "code",
   "execution_count": 159,
   "id": "fc4ceed4",
   "metadata": {},
   "outputs": [],
   "source": [
    "from sklearn.ensemble import GradientBoostingClassifier"
   ]
  },
  {
   "cell_type": "code",
   "execution_count": 160,
   "id": "303f7c83",
   "metadata": {},
   "outputs": [],
   "source": [
    "gbc=GradientBoostingClassifier(max_depth=14)"
   ]
  },
  {
   "cell_type": "code",
   "execution_count": 161,
   "id": "dd8b0a93",
   "metadata": {},
   "outputs": [],
   "source": [
    "gbcmodel=gbc.fit(X,y)"
   ]
  },
  {
   "cell_type": "code",
   "execution_count": 162,
   "id": "ae4a6415",
   "metadata": {},
   "outputs": [
    {
     "data": {
      "text/plain": [
       "1.0"
      ]
     },
     "execution_count": 162,
     "metadata": {},
     "output_type": "execute_result"
    }
   ],
   "source": [
    "gbcmodel.score(X,y)"
   ]
  },
  {
   "cell_type": "code",
   "execution_count": 163,
   "id": "6e5c7d87",
   "metadata": {},
   "outputs": [],
   "source": [
    "gbcpredict=gbcmodel.predict(X)"
   ]
  },
  {
   "cell_type": "code",
   "execution_count": 164,
   "id": "ce87e7a7",
   "metadata": {},
   "outputs": [
    {
     "name": "stdout",
     "output_type": "stream",
     "text": [
      "              precision    recall  f1-score   support\n",
      "\n",
      "           0       1.00      1.00      1.00      8255\n",
      "           1       1.00      1.00      1.00      6722\n",
      "\n",
      "    accuracy                           1.00     14977\n",
      "   macro avg       1.00      1.00      1.00     14977\n",
      "weighted avg       1.00      1.00      1.00     14977\n",
      "\n"
     ]
    }
   ],
   "source": [
    "print(classification_report(y,gbcpredict))"
   ]
  },
  {
   "cell_type": "code",
   "execution_count": 165,
   "id": "7c7a7846",
   "metadata": {},
   "outputs": [
    {
     "name": "stderr",
     "output_type": "stream",
     "text": [
      "C:\\Users\\asus\\anaconda3\\lib\\site-packages\\sklearn\\utils\\deprecation.py:87: FutureWarning: Function plot_roc_curve is deprecated; Function :func:`plot_roc_curve` is deprecated in 1.0 and will be removed in 1.2. Use one of the class methods: :meth:`sklearn.metric.RocCurveDisplay.from_predictions` or :meth:`sklearn.metric.RocCurveDisplay.from_estimator`.\n",
      "  warnings.warn(msg, category=FutureWarning)\n"
     ]
    },
    {
     "data": {
      "text/plain": [
       "<sklearn.metrics._plot.roc_curve.RocCurveDisplay at 0x141e032e580>"
      ]
     },
     "execution_count": 165,
     "metadata": {},
     "output_type": "execute_result"
    },
    {
     "data": {
      "image/png": "[encoded data removed]",
      "text/plain": [
       "<Figure size 432x288 with 1 Axes>"
      ]
     },
     "metadata": {
      "needs_background": "light"
     },
     "output_type": "display_data"
    }
   ],
   "source": [
    "plot_roc_curve(gbc,X,y)"
   ]
  },
  {
   "cell_type": "code",
   "execution_count": 167,
   "id": "2bce730b",
   "metadata": {},
   "outputs": [],
   "source": [
    "from sklearn.svm import SVC"
   ]
  },
  {
   "cell_type": "code",
   "execution_count": 168,
   "id": "e597ab65",
   "metadata": {},
   "outputs": [],
   "source": [
    "svc=SVC()"
   ]
  },
  {
   "cell_type": "code",
   "execution_count": 169,
   "id": "c5ad0018",
   "metadata": {},
   "outputs": [],
   "source": [
    "svcmodel=svc.fit(X,y)"
   ]
  },
  {
   "cell_type": "code",
   "execution_count": 170,
   "id": "a17759c5",
   "metadata": {},
   "outputs": [
    {
     "data": {
      "text/plain": [
       "0.639513921346064"
      ]
     },
     "execution_count": 170,
     "metadata": {},
     "output_type": "execute_result"
    }
   ],
   "source": [
    "svcmodel.score(X,y)"
   ]
  },
  {
   "cell_type": "code",
   "execution_count": 205,
   "id": "2f711cb8",
   "metadata": {},
   "outputs": [
    {
     "data": {
      "text/plain": [
       "array([0.58611482, 0.4722964 , 0.33656093, 0.321202  , 0.45108514])"
      ]
     },
     "execution_count": 205,
     "metadata": {},
     "output_type": "execute_result"
    }
   ],
   "source": [
    "cross_val_score(svc,X,y)"
   ]
  },
  {
   "cell_type": "code",
   "execution_count": 171,
   "id": "a05182f0",
   "metadata": {},
   "outputs": [],
   "source": [
    "svcpredict=svcmodel.predict(X)"
   ]
  },
  {
   "cell_type": "code",
   "execution_count": 172,
   "id": "920915bf",
   "metadata": {},
   "outputs": [
    {
     "name": "stdout",
     "output_type": "stream",
     "text": [
      "              precision    recall  f1-score   support\n",
      "\n",
      "           0       0.61      0.93      0.74      8255\n",
      "           1       0.76      0.28      0.41      6722\n",
      "\n",
      "    accuracy                           0.64     14977\n",
      "   macro avg       0.69      0.61      0.58     14977\n",
      "weighted avg       0.68      0.64      0.59     14977\n",
      "\n"
     ]
    }
   ],
   "source": [
    "print(classification_report(y,svcpredict))"
   ]
  },
  {
   "cell_type": "code",
   "execution_count": 173,
   "id": "76f5182a",
   "metadata": {},
   "outputs": [
    {
     "name": "stderr",
     "output_type": "stream",
     "text": [
      "C:\\Users\\asus\\anaconda3\\lib\\site-packages\\sklearn\\utils\\deprecation.py:87: FutureWarning: Function plot_roc_curve is deprecated; Function :func:`plot_roc_curve` is deprecated in 1.0 and will be removed in 1.2. Use one of the class methods: :meth:`sklearn.metric.RocCurveDisplay.from_predictions` or :meth:`sklearn.metric.RocCurveDisplay.from_estimator`.\n",
      "  warnings.warn(msg, category=FutureWarning)\n"
     ]
    },
    {
     "data": {
      "text/plain": [
       "<sklearn.metrics._plot.roc_curve.RocCurveDisplay at 0x141e033db20>"
      ]
     },
     "execution_count": 173,
     "metadata": {},
     "output_type": "execute_result"
    },
    {
     "data": {
      "image/png": "[encoded data removed]",
      "text/plain": [
       "<Figure size 432x288 with 1 Axes>"
      ]
     },
     "metadata": {
      "needs_background": "light"
     },
     "output_type": "display_data"
    }
   ],
   "source": [
    "plot_roc_curve(svc,X,y)"
   ]
  },
  {
   "cell_type": "code",
   "execution_count": 174,
   "id": "006c6912",
   "metadata": {},
   "outputs": [],
   "source": [
    "from sklearn.naive_bayes import GaussianNB"
   ]
  },
  {
   "cell_type": "code",
   "execution_count": 175,
   "id": "3c2dd327",
   "metadata": {},
   "outputs": [],
   "source": [
    "nb=GaussianNB()"
   ]
  },
  {
   "cell_type": "code",
   "execution_count": 176,
   "id": "f069a6ef",
   "metadata": {},
   "outputs": [],
   "source": [
    "nbmodel=nb.fit(X,y)"
   ]
  },
  {
   "cell_type": "code",
   "execution_count": 177,
   "id": "2c851762",
   "metadata": {},
   "outputs": [
    {
     "data": {
      "text/plain": [
       "0.4814048207251118"
      ]
     },
     "execution_count": 177,
     "metadata": {},
     "output_type": "execute_result"
    }
   ],
   "source": [
    "nbmodel.score(X,y)"
   ]
  },
  {
   "cell_type": "code",
   "execution_count": 178,
   "id": "2886bc5b",
   "metadata": {},
   "outputs": [],
   "source": [
    "nbpredict=nbmodel.predict(X)"
   ]
  },
  {
   "cell_type": "code",
   "execution_count": 179,
   "id": "48e40724",
   "metadata": {},
   "outputs": [
    {
     "name": "stdout",
     "output_type": "stream",
     "text": [
      "              precision    recall  f1-score   support\n",
      "\n",
      "           0       0.61      0.16      0.26      8255\n",
      "           1       0.46      0.87      0.60      6722\n",
      "\n",
      "    accuracy                           0.48     14977\n",
      "   macro avg       0.53      0.52      0.43     14977\n",
      "weighted avg       0.54      0.48      0.41     14977\n",
      "\n"
     ]
    }
   ],
   "source": [
    "print(classification_report(y,nbpredict))"
   ]
  },
  {
   "cell_type": "code",
   "execution_count": 181,
   "id": "55e4a23d",
   "metadata": {},
   "outputs": [
    {
     "name": "stderr",
     "output_type": "stream",
     "text": [
      "C:\\Users\\asus\\anaconda3\\lib\\site-packages\\sklearn\\utils\\deprecation.py:87: FutureWarning: Function plot_roc_curve is deprecated; Function :func:`plot_roc_curve` is deprecated in 1.0 and will be removed in 1.2. Use one of the class methods: :meth:`sklearn.metric.RocCurveDisplay.from_predictions` or :meth:`sklearn.metric.RocCurveDisplay.from_estimator`.\n",
      "  warnings.warn(msg, category=FutureWarning)\n"
     ]
    },
    {
     "data": {
      "text/plain": [
       "<sklearn.metrics._plot.roc_curve.RocCurveDisplay at 0x141da03d340>"
      ]
     },
     "execution_count": 181,
     "metadata": {},
     "output_type": "execute_result"
    },
    {
     "data": {
      "image/png": "[encoded data removed]",
      "text/plain": [
       "<Figure size 432x288 with 1 Axes>"
      ]
     },
     "metadata": {
      "needs_background": "light"
     },
     "output_type": "display_data"
    }
   ],
   "source": [
    "plot_roc_curve(nb,X,y)"
   ]
  },
  {
   "cell_type": "code",
   "execution_count": 182,
   "id": "c27c7e58",
   "metadata": {},
   "outputs": [],
   "source": [
    "from sklearn.neighbors import KNeighborsClassifier"
   ]
  },
  {
   "cell_type": "code",
   "execution_count": 183,
   "id": "dce68604",
   "metadata": {},
   "outputs": [],
   "source": [
    "knn=KNeighborsClassifier()"
   ]
  },
  {
   "cell_type": "code",
   "execution_count": 184,
   "id": "93383499",
   "metadata": {},
   "outputs": [],
   "source": [
    "knnmodel=knn.fit(X,y)"
   ]
  },
  {
   "cell_type": "code",
   "execution_count": 185,
   "id": "acded220",
   "metadata": {},
   "outputs": [
    {
     "data": {
      "text/plain": [
       "0.9873806503305068"
      ]
     },
     "execution_count": 185,
     "metadata": {},
     "output_type": "execute_result"
    }
   ],
   "source": [
    "knnmodel.score(X,y)"
   ]
  },
  {
   "cell_type": "code",
   "execution_count": 204,
   "id": "35650044",
   "metadata": {},
   "outputs": [
    {
     "data": {
      "text/plain": [
       "array([0.56809079, 0.57476636, 0.3736227 , 0.40868114, 0.46176962])"
      ]
     },
     "execution_count": 204,
     "metadata": {},
     "output_type": "execute_result"
    }
   ],
   "source": [
    "cross_val_score(knn,X,y)"
   ]
  },
  {
   "cell_type": "code",
   "execution_count": 186,
   "id": "8c590aa7",
   "metadata": {},
   "outputs": [],
   "source": [
    "knnpredict=knnmodel.predict(X)"
   ]
  },
  {
   "cell_type": "code",
   "execution_count": 187,
   "id": "c7e571e8",
   "metadata": {},
   "outputs": [
    {
     "name": "stdout",
     "output_type": "stream",
     "text": [
      "              precision    recall  f1-score   support\n",
      "\n",
      "           0       0.99      0.99      0.99      8255\n",
      "           1       0.99      0.98      0.99      6722\n",
      "\n",
      "    accuracy                           0.99     14977\n",
      "   macro avg       0.99      0.99      0.99     14977\n",
      "weighted avg       0.99      0.99      0.99     14977\n",
      "\n"
     ]
    }
   ],
   "source": [
    "print(classification_report(y,knnpredict))"
   ]
  },
  {
   "cell_type": "code",
   "execution_count": 188,
   "id": "d4172498",
   "metadata": {},
   "outputs": [
    {
     "name": "stderr",
     "output_type": "stream",
     "text": [
      "C:\\Users\\asus\\anaconda3\\lib\\site-packages\\sklearn\\utils\\deprecation.py:87: FutureWarning: Function plot_roc_curve is deprecated; Function :func:`plot_roc_curve` is deprecated in 1.0 and will be removed in 1.2. Use one of the class methods: :meth:`sklearn.metric.RocCurveDisplay.from_predictions` or :meth:`sklearn.metric.RocCurveDisplay.from_estimator`.\n",
      "  warnings.warn(msg, category=FutureWarning)\n"
     ]
    },
    {
     "data": {
      "text/plain": [
       "<sklearn.metrics._plot.roc_curve.RocCurveDisplay at 0x141e0d97670>"
      ]
     },
     "execution_count": 188,
     "metadata": {},
     "output_type": "execute_result"
    },
    {
     "data": {
      "image/png": "[encoded data removed]",
      "text/plain": [
       "<Figure size 432x288 with 1 Axes>"
      ]
     },
     "metadata": {
      "needs_background": "light"
     },
     "output_type": "display_data"
    }
   ],
   "source": [
    "plot_roc_curve(knn,X,y)"
   ]
  },
  {
   "cell_type": "code",
   "execution_count": 189,
   "id": "50b94b90",
   "metadata": {},
   "outputs": [],
   "source": [
    "from sklearn.neural_network import MLPClassifier"
   ]
  },
  {
   "cell_type": "code",
   "execution_count": 206,
   "id": "01acf65c",
   "metadata": {},
   "outputs": [],
   "source": [
    "nn=MLPClassifier(hidden_layer_sizes=(100,50,20))"
   ]
  },
  {
   "cell_type": "code",
   "execution_count": 207,
   "id": "8b50536a",
   "metadata": {},
   "outputs": [],
   "source": [
    "nnmodel=nn.fit(X,y)"
   ]
  },
  {
   "cell_type": "code",
   "execution_count": 208,
   "id": "328f4659",
   "metadata": {},
   "outputs": [
    {
     "data": {
      "text/plain": [
       "0.551111704613741"
      ]
     },
     "execution_count": 208,
     "metadata": {},
     "output_type": "execute_result"
    }
   ],
   "source": [
    "nnmodel.score(X,y)"
   ]
  },
  {
   "cell_type": "code",
   "execution_count": 209,
   "id": "75823d3f",
   "metadata": {},
   "outputs": [],
   "source": [
    "nnpredict=nnmodel.predict(X)"
   ]
  },
  {
   "cell_type": "code",
   "execution_count": 210,
   "id": "0f3bd00e",
   "metadata": {},
   "outputs": [
    {
     "name": "stdout",
     "output_type": "stream",
     "text": [
      "              precision    recall  f1-score   support\n",
      "\n",
      "           0       0.55      1.00      0.71      8255\n",
      "           1       0.46      0.00      0.00      6722\n",
      "\n",
      "    accuracy                           0.55     14977\n",
      "   macro avg       0.51      0.50      0.36     14977\n",
      "weighted avg       0.51      0.55      0.39     14977\n",
      "\n"
     ]
    }
   ],
   "source": [
    "print(classification_report(y,nnpredict))"
   ]
  },
  {
   "cell_type": "code",
   "execution_count": 211,
   "id": "9242a960",
   "metadata": {},
   "outputs": [
    {
     "name": "stderr",
     "output_type": "stream",
     "text": [
      "C:\\Users\\asus\\anaconda3\\lib\\site-packages\\sklearn\\utils\\deprecation.py:87: FutureWarning: Function plot_roc_curve is deprecated; Function :func:`plot_roc_curve` is deprecated in 1.0 and will be removed in 1.2. Use one of the class methods: :meth:`sklearn.metric.RocCurveDisplay.from_predictions` or :meth:`sklearn.metric.RocCurveDisplay.from_estimator`.\n",
      "  warnings.warn(msg, category=FutureWarning)\n"
     ]
    },
    {
     "data": {
      "text/plain": [
       "<sklearn.metrics._plot.roc_curve.RocCurveDisplay at 0x141df6cff40>"
      ]
     },
     "execution_count": 211,
     "metadata": {},
     "output_type": "execute_result"
    },
    {
     "data": {
      "image/png": "[encoded data removed]",
      "text/plain": [
       "<Figure size 432x288 with 1 Axes>"
      ]
     },
     "metadata": {
      "needs_background": "light"
     },
     "output_type": "display_data"
    }
   ],
   "source": [
    "plot_roc_curve(nn,X,y)"
   ]
  },
  {
   "cell_type": "code",
   "execution_count": null,
   "id": "2eb25441",
   "metadata": {},
   "outputs": [],
   "source": []
  }
 ],
 "metadata": {
  "kernelspec": {
   "display_name": "Python 3 (ipykernel)",
   "language": "python",
   "name": "python3"
  },
  "language_info": {
   "codemirror_mode": {
    "name": "ipython",
    "version": 3
   },
   "file_extension": ".py",
   "mimetype": "text/x-python",
   "name": "python",
   "nbconvert_exporter": "python",
   "pygments_lexer": "ipython3",
   "version": "3.9.12"
  }
 },
 "nbformat": 4,
 "nbformat_minor": 5
}
